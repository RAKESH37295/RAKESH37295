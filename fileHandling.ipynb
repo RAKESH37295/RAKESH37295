{
 "cells": [
  {
   "cell_type": "code",
   "execution_count": 1,
   "metadata": {},
   "outputs": [],
   "source": [
    "# a file will be opened with the reading mode"
   ]
  },
  {
   "cell_type": "code",
   "execution_count": 2,
   "metadata": {},
   "outputs": [
    {
     "ename": "FileNotFoundError",
     "evalue": "[Errno 2] No such file or directory: 'C:\\\\Users\\\\Rakesh\\\\Desktop\\\\mlp.txt'",
     "output_type": "error",
     "traceback": [
      "\u001b[1;31m---------------------------------------------------------------------------\u001b[0m",
      "\u001b[1;31mFileNotFoundError\u001b[0m                         Traceback (most recent call last)",
      "\u001b[1;32m<ipython-input-2-88d6f910114d>\u001b[0m in \u001b[0;36m<module>\u001b[1;34m\u001b[0m\n\u001b[1;32m----> 1\u001b[1;33m \u001b[0mfile\u001b[0m \u001b[1;33m=\u001b[0m \u001b[0mopen\u001b[0m\u001b[1;33m(\u001b[0m\u001b[1;34m\"C:\\\\Users\\\\Rakesh\\\\Desktop\\\\mlp.txt\"\u001b[0m\u001b[1;33m,\u001b[0m\u001b[1;34m'r'\u001b[0m\u001b[1;33m)\u001b[0m\u001b[1;33m\u001b[0m\u001b[1;33m\u001b[0m\u001b[0m\n\u001b[0m",
      "\u001b[1;31mFileNotFoundError\u001b[0m: [Errno 2] No such file or directory: 'C:\\\\Users\\\\Rakesh\\\\Desktop\\\\mlp.txt'"
     ]
    }
   ],
   "source": [
    "file = open(\"C:\\\\Users\\\\Rakesh\\\\Desktop\\\\mlp.txt\",'r')"
   ]
  },
  {
   "cell_type": "code",
   "execution_count": null,
   "metadata": {},
   "outputs": [],
   "source": [
    "for line in file:\n",
    "    print(line)"
   ]
  },
  {
   "cell_type": "code",
   "execution_count": 3,
   "metadata": {},
   "outputs": [],
   "source": [
    "#Working of read() mode\n",
    "\n",
    "#There is more than one way to read a file in Python. \n",
    "#If you need to extract a string that contains all characters in the file then we can use file.read()\n"
   ]
  },
  {
   "cell_type": "code",
   "execution_count": 4,
   "metadata": {},
   "outputs": [
    {
     "ename": "FileNotFoundError",
     "evalue": "[Errno 2] No such file or directory: 'C:\\\\Users\\\\Rakesh\\\\Desktop\\\\mlp.txt'",
     "output_type": "error",
     "traceback": [
      "\u001b[1;31m---------------------------------------------------------------------------\u001b[0m",
      "\u001b[1;31mFileNotFoundError\u001b[0m                         Traceback (most recent call last)",
      "\u001b[1;32m<ipython-input-4-7717770b5a5d>\u001b[0m in \u001b[0;36m<module>\u001b[1;34m\u001b[0m\n\u001b[1;32m----> 1\u001b[1;33m \u001b[0mfile\u001b[0m \u001b[1;33m=\u001b[0m \u001b[0mopen\u001b[0m\u001b[1;33m(\u001b[0m\u001b[1;34m\"C:\\\\Users\\\\Rakesh\\\\Desktop\\\\mlp.txt\"\u001b[0m\u001b[1;33m,\u001b[0m\u001b[1;34m'r'\u001b[0m\u001b[1;33m)\u001b[0m\u001b[1;33m\u001b[0m\u001b[1;33m\u001b[0m\u001b[0m\n\u001b[0m\u001b[0;32m      2\u001b[0m \u001b[0mprint\u001b[0m\u001b[1;33m(\u001b[0m\u001b[0mfile\u001b[0m\u001b[1;33m.\u001b[0m\u001b[0mread\u001b[0m\u001b[1;33m(\u001b[0m\u001b[1;33m)\u001b[0m\u001b[1;33m)\u001b[0m\u001b[1;33m\u001b[0m\u001b[1;33m\u001b[0m\u001b[0m\n",
      "\u001b[1;31mFileNotFoundError\u001b[0m: [Errno 2] No such file or directory: 'C:\\\\Users\\\\Rakesh\\\\Desktop\\\\mlp.txt'"
     ]
    }
   ],
   "source": [
    "file = open(\"C:\\\\Users\\\\Rakesh\\\\Desktop\\\\mlp.txt\",'r')\n",
    "print(file.read())"
   ]
  },
  {
   "cell_type": "code",
   "execution_count": 5,
   "metadata": {},
   "outputs": [],
   "source": [
    "#Another way to read a file is to call a certain number of characters \n",
    "#like in the following code the interpreter will read the first five characters of stored data and return it as a string:"
   ]
  },
  {
   "cell_type": "code",
   "execution_count": 6,
   "metadata": {},
   "outputs": [
    {
     "ename": "FileNotFoundError",
     "evalue": "[Errno 2] No such file or directory: 'C:\\\\Users\\\\Rakesh\\\\Desktop\\\\mlp.txt'",
     "output_type": "error",
     "traceback": [
      "\u001b[1;31m---------------------------------------------------------------------------\u001b[0m",
      "\u001b[1;31mFileNotFoundError\u001b[0m                         Traceback (most recent call last)",
      "\u001b[1;32m<ipython-input-6-617d7fca1060>\u001b[0m in \u001b[0;36m<module>\u001b[1;34m\u001b[0m\n\u001b[1;32m----> 1\u001b[1;33m \u001b[0mfile\u001b[0m \u001b[1;33m=\u001b[0m \u001b[0mopen\u001b[0m\u001b[1;33m(\u001b[0m\u001b[1;34m\"C:\\\\Users\\\\Rakesh\\\\Desktop\\\\mlp.txt\"\u001b[0m\u001b[1;33m,\u001b[0m\u001b[1;34m'r'\u001b[0m\u001b[1;33m)\u001b[0m\u001b[1;33m\u001b[0m\u001b[1;33m\u001b[0m\u001b[0m\n\u001b[0m\u001b[0;32m      2\u001b[0m \u001b[0mprint\u001b[0m\u001b[1;33m(\u001b[0m\u001b[0mfile\u001b[0m\u001b[1;33m.\u001b[0m\u001b[0mread\u001b[0m\u001b[1;33m(\u001b[0m\u001b[1;36m45\u001b[0m\u001b[1;33m)\u001b[0m\u001b[1;33m)\u001b[0m\u001b[1;33m\u001b[0m\u001b[1;33m\u001b[0m\u001b[0m\n",
      "\u001b[1;31mFileNotFoundError\u001b[0m: [Errno 2] No such file or directory: 'C:\\\\Users\\\\Rakesh\\\\Desktop\\\\mlp.txt'"
     ]
    }
   ],
   "source": [
    "file = open(\"C:\\\\Users\\\\Rakesh\\\\Desktop\\\\mlp.txt\",'r')\n",
    "print(file.read(45))"
   ]
  },
  {
   "cell_type": "code",
   "execution_count": 7,
   "metadata": {},
   "outputs": [],
   "source": [
    "#Creating a file using write() mode"
   ]
  },
  {
   "cell_type": "code",
   "execution_count": 2,
   "metadata": {},
   "outputs": [],
   "source": [
    "file = open(\"C:\\\\Users\\\\Rakesh\\\\Desktop\\\\writeMode.txt\",'w')"
   ]
  },
  {
   "cell_type": "code",
   "execution_count": 3,
   "metadata": {},
   "outputs": [],
   "source": [
    "file.write(\"This is RAKESH RANJAN SRIVASTAVA.\\n\")\n",
    "file.write(\"i like to play cricket.\\n\")\n",
    "file.close()"
   ]
  },
  {
   "cell_type": "code",
   "execution_count": 10,
   "metadata": {},
   "outputs": [],
   "source": [
    "#The close() command terminates all the resources in use \n",
    "#and frees the system of this particular program."
   ]
  },
  {
   "cell_type": "code",
   "execution_count": 11,
   "metadata": {},
   "outputs": [],
   "source": [
    "#open a file in append mode"
   ]
  },
  {
   "cell_type": "code",
   "execution_count": 12,
   "metadata": {},
   "outputs": [],
   "source": [
    "file = open(\"C:\\\\Users\\\\Rakesh\\\\Desktop\\\\writeMode.txt\",'a')\n",
    "file.write(\"This will add this line.\\n\")\n",
    "file.close()"
   ]
  },
  {
   "cell_type": "code",
   "execution_count": 13,
   "metadata": {},
   "outputs": [],
   "source": [
    "file = open(\"C:\\\\Users\\\\Rakesh\\\\Desktop\\\\writeMode.txt\",'a')\n",
    "file.write(\"HELLO_WORLD\\n\")\n",
    "file.close()"
   ]
  },
  {
   "cell_type": "code",
   "execution_count": 14,
   "metadata": {},
   "outputs": [],
   "source": [
    "#rstrip(): This function strips each line of a\n",
    "#file off spaces from the right-hand side.\n",
    "#lstrip(): This function strips each line of a file off \n",
    "#spaces from the left-hand side."
   ]
  },
  {
   "cell_type": "code",
   "execution_count": 15,
   "metadata": {},
   "outputs": [],
   "source": [
    "# Python code to illustrate with()"
   ]
  },
  {
   "cell_type": "code",
   "execution_count": 16,
   "metadata": {},
   "outputs": [
    {
     "name": "stdout",
     "output_type": "stream",
     "text": [
      "This is RAKESH RANJAN SRIVASTAVA.\n",
      "i like to play cricket.\n",
      "This will add this line.\n",
      "HELLO_WORLD\n",
      "\n"
     ]
    }
   ],
   "source": [
    "with open(\"C:\\\\Users\\\\Rakesh\\\\Desktop\\\\writeMode.txt\") as file:  \n",
    "    data = file.read()\n",
    "    print(data)"
   ]
  },
  {
   "cell_type": "code",
   "execution_count": 17,
   "metadata": {},
   "outputs": [],
   "source": [
    "#Using write along with with() function"
   ]
  },
  {
   "cell_type": "code",
   "execution_count": 18,
   "metadata": {},
   "outputs": [],
   "source": [
    "with open(\"C:\\\\Users\\\\Rakesh\\\\Desktop\\\\textFile.txt\",'w') as file:\n",
    "    file.write(\"hello world!!!\")\n",
    "    "
   ]
  },
  {
   "cell_type": "code",
   "execution_count": 19,
   "metadata": {},
   "outputs": [],
   "source": [
    "#split() using file handling"
   ]
  },
  {
   "cell_type": "code",
   "execution_count": 20,
   "metadata": {},
   "outputs": [
    {
     "name": "stdout",
     "output_type": "stream",
     "text": [
      "['This', 'is', 'RAKESH', 'RANJAN', 'SRIVASTAVA.']\n",
      "['i', 'like', 'to', 'play', 'cricket.']\n",
      "['This', 'will', 'add', 'this', 'line.']\n",
      "['HELLO_WORLD']\n"
     ]
    }
   ],
   "source": [
    "with open(\"C:\\\\Users\\\\Rakesh\\\\Desktop\\\\writeMode.txt\", \"r\") as file:\n",
    "    data = file.readlines()\n",
    "    for line in data:\n",
    "        word = line.split()\n",
    "        print (word)"
   ]
  },
  {
   "cell_type": "code",
   "execution_count": 21,
   "metadata": {},
   "outputs": [],
   "source": [
    "#Text files: In this type of file, Each line of text is terminated with a special character \n",
    "#called EOL (End of Line), which is the new line character (‘\\n’) in Python by default.\n",
    "#Binary files: In this type of file, there is no terminator for a \n",
    "#line and the data is stored after converting it into machine-understandable binary language."
   ]
  },
  {
   "cell_type": "code",
   "execution_count": 22,
   "metadata": {},
   "outputs": [],
   "source": [
    "#Read Only (‘r’): Open text file for reading. The handle is positioned at the beginning of the file. \n",
    "#If the file does not exist, raises I/O error. This is also the default mode in which the file is opened.\n",
    "#Read and Write (‘r+’): Open the file for reading and writing. The handle is positioned at the beginning of the file. \n",
    "#Raises I/O error if the file does not exist.\n",
    "#Write Only (‘w’): Open the file for writing. For existing file, the data is truncated and over-written. \n",
    "#The handle is positioned at the beginning of the file. Creates the file if the file does not exist.\n",
    "#Write and Read (‘w+’): Open the file for reading and writing. For existing file, data is truncated and over-written. \n",
    "#The handle is positioned at the beginning of the file.\n",
    "#Append Only (‘a’): Open the file for writing. The file is created if it does not exist. The handle is positioned at the \n",
    "#end of the file. The data being written will be inserted at the end, after the existing data.\n",
    "#Append and Read (‘a+’): Open the file for reading and writing. The file is created if it does not exist. \n",
    "#The handle is positioned at the end of the file. The data being written will be inserted at the end, \n",
    "#after the existing data."
   ]
  },
  {
   "cell_type": "code",
   "execution_count": 23,
   "metadata": {},
   "outputs": [
    {
     "name": "stdout",
     "output_type": "stream",
     "text": [
      "This is RAKESH RANJAN SRIVASTAVA.\n",
      "i like to play cricket.\n",
      "This will add this line.\n",
      "HELLO_WORLD\n",
      "\n"
     ]
    }
   ],
   "source": [
    "file1 = open(\"C:\\\\Users\\\\Rakesh\\\\Desktop\\\\writeMode.txt\")\n",
    "print(file1.read())\n",
    "  \n",
    "file1.close()"
   ]
  },
  {
   "cell_type": "code",
   "execution_count": 24,
   "metadata": {},
   "outputs": [],
   "source": [
    "# Suppose we want to write more data to the above file using Python"
   ]
  },
  {
   "cell_type": "code",
   "execution_count": 25,
   "metadata": {},
   "outputs": [],
   "source": [
    "file1 = open(\"C:\\\\Users\\\\Rakesh\\\\Desktop\\\\writeMode.txt\", \"a\")\n",
    "\n",
    "file1.write(\"\\nWriting to file :)\")\n",
    "  \n",
    "# Closing file\n",
    "file1.close()"
   ]
  },
  {
   "cell_type": "code",
   "execution_count": 26,
   "metadata": {},
   "outputs": [],
   "source": [
    "# The r is placed before filename to prevent the characters in filename string to be treated as special character. \n",
    " #   For example, if there is \\temp in the file address, then \\t is treated as the tab character and error is raised of \n",
    "  #  invalid address. The r makes the string raw, that is, it tells that the string is without any special characters. \n",
    "   # The r can be ignored if the file is in same directory and address is not being placed."
   ]
  },
  {
   "cell_type": "code",
   "execution_count": 27,
   "metadata": {},
   "outputs": [],
   "source": [
    "file1 = open(\"C:\\\\Users\\\\Rakesh\\\\Desktop\\\\writeMode.txt\", \"r\") \n",
    "file2 = open(r\"C:\\\\Users\\\\Rakesh\\\\Desktop\\\\textFile.txt\", \"r+\") "
   ]
  },
  {
   "cell_type": "code",
   "execution_count": 28,
   "metadata": {},
   "outputs": [
    {
     "name": "stdout",
     "output_type": "stream",
     "text": [
      "<_io.TextIOWrapper name='C:\\\\Users\\\\Rakesh\\\\Desktop\\\\writeMode.txt' mode='r' encoding='cp1252'>\n"
     ]
    }
   ],
   "source": [
    "print(file1)"
   ]
  },
  {
   "cell_type": "code",
   "execution_count": 29,
   "metadata": {},
   "outputs": [
    {
     "name": "stdout",
     "output_type": "stream",
     "text": [
      "<_io.TextIOWrapper name='C:\\\\\\\\Users\\\\\\\\Rakesh\\\\\\\\Desktop\\\\\\\\textFile.txt' mode='r+' encoding='cp1252'>\n"
     ]
    }
   ],
   "source": [
    "print(file2)"
   ]
  },
  {
   "cell_type": "code",
   "execution_count": 30,
   "metadata": {},
   "outputs": [],
   "source": [
    "#Closing a file"
   ]
  },
  {
   "cell_type": "code",
   "execution_count": 31,
   "metadata": {},
   "outputs": [],
   "source": [
    "\n",
    "#close() function closes the file and frees the memory space acquired by that file. It is used at the time when the file is no longer needed \n",
    "#or if it is to be opened in a different file mode."
   ]
  },
  {
   "cell_type": "code",
   "execution_count": 32,
   "metadata": {},
   "outputs": [],
   "source": [
    "file1 = open(\"C:\\\\Users\\\\Rakesh\\\\Desktop\\\\writeMode.txt\", \"r\") \n",
    "file1.close()"
   ]
  },
  {
   "cell_type": "code",
   "execution_count": 33,
   "metadata": {},
   "outputs": [],
   "source": [
    "#Reading from a file"
   ]
  },
  {
   "cell_type": "code",
   "execution_count": 34,
   "metadata": {},
   "outputs": [],
   "source": [
    "#read() : Returns the read bytes in form of a string. Reads n bytes, if no n specified, reads the entire file.\n",
    "#File_object.read([n])"
   ]
  },
  {
   "cell_type": "code",
   "execution_count": 35,
   "metadata": {},
   "outputs": [],
   "source": [
    "#readline() : Reads a line of the file and returns in form of a string.For specified n, \n",
    "    #reads at most n bytes. However, does not reads more than one line, even if n exceeds the length of the line.\n",
    "#File_object.readline([n])"
   ]
  },
  {
   "cell_type": "code",
   "execution_count": 36,
   "metadata": {},
   "outputs": [],
   "source": [
    "#readlines() : Reads all the lines and return them as each line a string element in a list.\n",
    "#File_object.readlines()"
   ]
  },
  {
   "cell_type": "code",
   "execution_count": 37,
   "metadata": {},
   "outputs": [
    {
     "name": "stdout",
     "output_type": "stream",
     "text": [
      "Hello \n",
      "This is Delhi \n",
      "This is Paris \n",
      "This is London \n",
      "\n",
      "\n",
      "Hello \n",
      "\n",
      "\n",
      "Hello \n",
      "Th\n",
      "\n",
      "Hello \n",
      "\n",
      "\n",
      "['Hello \\n', 'This is Delhi \\n', 'This is Paris \\n', 'This is London \\n']\n",
      "\n"
     ]
    }
   ],
   "source": [
    "file1 = open(\"C:\\\\Users\\\\Rakesh\\\\Desktop\\\\myfile.txt\", \"w\")\n",
    "L = [\"This is Delhi \\n\", \"This is Paris \\n\", \"This is London \\n\"]\n",
    "\n",
    "file1.write(\"Hello \\n\") \n",
    "file1.writelines(L)\n",
    "file1.close()  \n",
    "  \n",
    "file1 = open(\"C:\\\\Users\\\\Rakesh\\\\Desktop\\\\myfile.txt\", \"r+\")\n",
    "\n",
    "print(file1.read())\n",
    "print()\n",
    " \n",
    "file1.seek(0)\n",
    "\n",
    "print(file1.readline())\n",
    "print()\n",
    "  \n",
    "file1.seek(0)\n",
    "print(file1.read(9))\n",
    "print()\n",
    "  \n",
    "file1.seek(0)\n",
    "\n",
    "print(file1.readline(9))\n",
    "print()\n",
    "  \n",
    "file1.seek(0)\n",
    "\n",
    "print(file1.readlines())\n",
    "print()\n",
    "file1.close() "
   ]
  },
  {
   "cell_type": "code",
   "execution_count": 38,
   "metadata": {},
   "outputs": [],
   "source": [
    "#With statement\n",
    "#with statement in Python is used in exception handling to make the code cleaner and much more readable.\n",
    "#It simplifies the management of common resources like file streams. \n",
    "#Unlike the above implementations, there is no need to call file.close() when using with statement. \n",
    "#The with statement itself ensures proper acquisition and release of resources."
   ]
  },
  {
   "cell_type": "code",
   "execution_count": 39,
   "metadata": {},
   "outputs": [
    {
     "name": "stdout",
     "output_type": "stream",
     "text": [
      "Hello \n",
      "This is Delhi \n",
      "This is Paris \n",
      "This is London \n",
      "\n"
     ]
    }
   ],
   "source": [
    "L = [\"This is Delhi \\n\", \"This is Paris \\n\", \"This is London \\n\"]\n",
    "with open(\"C:\\\\Users\\\\Rakesh\\\\Desktop\\\\myfile1.txt\", \"w\") as file1:\n",
    "    \n",
    "    file1.write(\"Hello \\n\")\n",
    "    file1.writelines(L)\n",
    "    file1.close()  \n",
    "with open(\"C:\\\\Users\\\\Rakesh\\\\Desktop\\\\myfile1.txt\", \"r+\") as file1:\n",
    "   \n",
    "    print(file1.read())"
   ]
  },
  {
   "cell_type": "code",
   "execution_count": 3,
   "metadata": {},
   "outputs": [],
   "source": [
    "#write() : Inserts the string str1 in a single line in the text file.\n",
    "#File_object.write(str1)"
   ]
  },
  {
   "cell_type": "code",
   "execution_count": 4,
   "metadata": {},
   "outputs": [],
   "source": [
    "#writelines() : For a list of string elements, each string is inserted in the text file. Used to insert multiple strings\n",
    "#at a single time.\n",
    "#File_object.writelines(L) for L = [str1, str2, str3] "
   ]
  },
  {
   "cell_type": "code",
   "execution_count": null,
   "metadata": {},
   "outputs": [],
   "source": []
  }
 ],
 "metadata": {
  "kernelspec": {
   "display_name": "Python 3 (ipykernel)",
   "language": "python",
   "name": "python3"
  },
  "language_info": {
   "codemirror_mode": {
    "name": "ipython",
    "version": 3
   },
   "file_extension": ".py",
   "mimetype": "text/x-python",
   "name": "python",
   "nbconvert_exporter": "python",
   "pygments_lexer": "ipython3",
   "version": "3.10.0"
  }
 },
 "nbformat": 4,
 "nbformat_minor": 4
}
