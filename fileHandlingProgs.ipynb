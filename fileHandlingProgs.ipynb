{
 "cells": [
  {
   "cell_type": "code",
   "execution_count": 9,
   "id": "aa855407",
   "metadata": {},
   "outputs": [
    {
     "name": "stdout",
     "output_type": "stream",
     "text": [
      "hello\n",
      "Rakesh\n",
      "Ranjan\n",
      "Srivastava.\n",
      "He is a good person.\n"
     ]
    }
   ],
   "source": [
    "#Python Program to merge two files into a third file\n",
    "f1 = open(\"C:\\\\Users\\\\Rakesh\\\\Desktop\\\\f1.txt\",'r')\n",
    "f2 = open(\"C:\\\\Users\\\\Rakesh\\\\Desktop\\\\f2.txt\",'r')\n",
    "f3 = open(\"C:\\\\Users\\\\Rakesh\\\\Desktop\\\\f3.txt\",'w')\n",
    "data1 = f1.read()\n",
    "data2 = f2.read()\n",
    "fin_data = data1+'\\n'+data2\n",
    "f3.write(fin_data)\n",
    "f1.close()\n",
    "f2.close()\n",
    "f3.close()\n",
    "f3 = open(\"C:\\\\Users\\\\Rakesh\\\\Desktop\\\\f3.txt\",'r')\n",
    "print(f3.read())"
   ]
  },
  {
   "cell_type": "code",
   "execution_count": 1,
   "id": "e6ada792",
   "metadata": {},
   "outputs": [],
   "source": [
    "#Python – Append content of one text file to another"
   ]
  },
  {
   "cell_type": "code",
   "execution_count": null,
   "id": "5bb35030",
   "metadata": {},
   "outputs": [],
   "source": []
  },
  {
   "cell_type": "code",
   "execution_count": 13,
   "id": "165e6c09",
   "metadata": {},
   "outputs": [
    {
     "name": "stdout",
     "output_type": "stream",
     "text": [
      "Hello ,RAKESH.\n",
      "HOW ARE YOU?\n",
      "HOW ARE YOU?\n",
      "HOW ARE YOU?\n",
      "HOW ARE YOU?\n"
     ]
    }
   ],
   "source": [
    "F1A = open(\"C:\\\\Users\\\\Rakesh\\\\Desktop\\\\F1A.txt\",'a+')\n",
    "F2 = open(\"C:\\\\Users\\\\Rakesh\\\\Desktop\\\\F2.txt\",'r')\n",
    "data = F2.read()\n",
    "F1A.write(\"\\n\"+data)\n",
    "F1A.close()\n",
    "F2.close()\n",
    "F1A = open(\"C:\\\\Users\\\\Rakesh\\\\Desktop\\\\F1A.txt\",'r')\n",
    "data1 = F1A.read()\n",
    "print(data1)\n",
    "F1A.close()"
   ]
  },
  {
   "cell_type": "code",
   "execution_count": 3,
   "id": "9e59a533",
   "metadata": {},
   "outputs": [],
   "source": [
    "#Eliminating repeated lines from a file using Python"
   ]
  },
  {
   "cell_type": "code",
   "execution_count": 14,
   "id": "9bf4b234",
   "metadata": {},
   "outputs": [
    {
     "name": "stdout",
     "output_type": "stream",
     "text": [
      "Hello ,RAKESH.\n",
      "HOW ARE YOU?\n",
      "HOW ARE YOU?\n",
      "HOW ARE YOU?\n",
      "HOW ARE YOU?\n"
     ]
    }
   ],
   "source": [
    "F1 = open(\"C:\\\\Users\\\\Rakesh\\\\Desktop\\\\F1A.txt\",'r')\n",
    "Final_File = open(\"C:\\\\Users\\\\Rakesh\\\\Desktop\\\\Output.txt\",'w')\n",
    "data = F1.read()\n",
    "print(data)\n",
    "#for i in data:\n",
    "   "
   ]
  },
  {
   "cell_type": "code",
   "execution_count": 22,
   "id": "b497c453",
   "metadata": {},
   "outputs": [
    {
     "name": "stdout",
     "output_type": "stream",
     "text": [
      "Hello ,RAKESH.\n",
      "HOW ARE YOU?\n",
      "HOW ARE YOU?\n"
     ]
    }
   ],
   "source": [
    "F1 = open(\"C:\\\\Users\\\\Rakesh\\\\Desktop\\\\F1A.txt\",'r')\n",
    "Final_File = open(\"C:\\\\Users\\\\Rakesh\\\\Desktop\\\\Output.txt\",'w')\n",
    "lines_seen_so_far = set()\n",
    "\n",
    "for line in F1:\n",
    "    if line not in lines_seen_so_far:\n",
    "        Final_File.write(line)\n",
    "        lines_seen_so_far.add(line)        \n",
    "\n",
    "F1.close()\n",
    "Final_File.close()\n",
    "Final_File = open(\"C:\\\\Users\\\\Rakesh\\\\Desktop\\\\Output.txt\",'r')\n",
    "Final_data = Final_File.read()\n",
    "print(Final_data)\n",
    "Final_File.close()\n"
   ]
  },
  {
   "cell_type": "code",
   "execution_count": 2,
   "id": "67d98636",
   "metadata": {},
   "outputs": [
    {
     "name": "stdout",
     "output_type": "stream",
     "text": [
      "Something unexpected occurred!\n"
     ]
    }
   ],
   "source": [
    "import pickle\n",
    "try:\n",
    "    geeky_file = open(\"C:\\\\Users\\\\Rakesh\\\\Desktop\\\\dictFile.txt\", 'r')\n",
    "    dictionary_list = pickle.load(geeky_file)\n",
    "      \n",
    "    for d in dictionary_list:\n",
    "        print(d)\n",
    "    geeky_file.close()\n",
    "except:\n",
    "    print(\"Something unexpected occurred!\")"
   ]
  },
  {
   "cell_type": "code",
   "execution_count": 1,
   "id": "f5757446",
   "metadata": {},
   "outputs": [],
   "source": [
    "#How to remove lines starting with any prefix using Python?"
   ]
  },
  {
   "cell_type": "code",
   "execution_count": 5,
   "id": "338aeb6a",
   "metadata": {},
   "outputs": [],
   "source": [
    "f1 = open(\"C:\\\\Users\\\\Rakesh\\\\Desktop\\\\F1A.txt\",'r')\n",
    "output = open(\"C:\\\\Users\\\\Rakesh\\\\Desktop\\\\outputFile.txt\",'w')\n",
    "data = f1.read()\n",
    "for i in data:\n",
    "    if not (i.startswith(\"RRS\")):\n",
    "        #print(i)\n",
    "        output.write(i)\n",
    "f1.close()        \n",
    "output.close()\n",
    "output = open(\"C:\\\\Users\\\\Rakesh\\\\Desktop\\\\outputFile.txt\",'w')\n"
   ]
  },
  {
   "cell_type": "code",
   "execution_count": 1,
   "id": "14e9e254",
   "metadata": {},
   "outputs": [],
   "source": [
    "#How to obtain the line number in which given word is present using Python?"
   ]
  },
  {
   "cell_type": "code",
   "execution_count": 2,
   "id": "11d34cdb",
   "metadata": {},
   "outputs": [
    {
     "data": {
      "text/plain": [
       "'HOW ARE YOU?\\nMR. RAKESH RANJAN SRIVASTAVA....'"
      ]
     },
     "execution_count": 2,
     "metadata": {},
     "output_type": "execute_result"
    }
   ],
   "source": [
    "\n",
    "# READ FILE\n",
    "df = open(\"C:\\\\Users\\\\Rakesh\\\\Desktop\\\\New folder\\F2.txt\")\n",
    " \n",
    "# read file\n",
    "read = df.read()\n",
    " \n",
    "# return cursor to\n",
    "# the beginning\n",
    "# of the file.\n",
    "df.seek(0)\n",
    "read"
   ]
  },
  {
   "cell_type": "code",
   "execution_count": null,
   "id": "5fa70c52",
   "metadata": {},
   "outputs": [],
   "source": []
  },
  {
   "cell_type": "code",
   "execution_count": 16,
   "id": "25dd1d7a",
   "metadata": {},
   "outputs": [
    {
     "name": "stdout",
     "output_type": "stream",
     "text": [
      "2\n"
     ]
    }
   ],
   "source": [
    "file = open(\"C:\\\\Users\\\\Rakesh\\\\Desktop\\\\New folder\\F2.txt\",'r')\n",
    "data = file.read()\n",
    "\n",
    "count = 1\n",
    "for line in data:\n",
    "    if line == '\\n':\n",
    "        count +=1\n",
    "print(count)  \n",
    "#-------------------------------\n",
    "#another method    "
   ]
  },
  {
   "cell_type": "code",
   "execution_count": 2,
   "id": "2ece03ba",
   "metadata": {},
   "outputs": [
    {
     "name": "stdout",
     "output_type": "stream",
     "text": [
      "AND\n",
      "GOT\n",
      "72%\n",
      "AND\n",
      "AND\n",
      "FAR\n",
      "ARE\n",
      "FAR\n",
      "ARE\n",
      "TOP\n",
      "AND\n"
     ]
    }
   ],
   "source": [
    "\n",
    "count = 1\n",
    "chrw = \"\"\n",
    "file = open(\"C:\\\\Users\\\\Rakesh\\\\Desktop\\\\ip address file.txt\", 'r')\n",
    "while 1:\n",
    "    sp = file.read(1)\n",
    "  \n",
    "    if count<= 3:\n",
    "        chrw = chrw + sp\n",
    "  \n",
    "    if count>3:\n",
    "        if sp ==\" \":\n",
    "            count = 0\n",
    "            if len(chrw)>0:\n",
    "                print(chrw)\n",
    "                chrw =\"\"\n",
    "        elif sp !=\" \":\n",
    "            chrw =\"\"\n",
    "    count = count + 1\n",
    "  \n",
    "    if not sp:\n",
    "        break\n",
    "  \n",
    "file.close()"
   ]
  },
  {
   "cell_type": "code",
   "execution_count": null,
   "id": "26a40eca",
   "metadata": {},
   "outputs": [],
   "source": []
  }
 ],
 "metadata": {
  "kernelspec": {
   "display_name": "Python 3 (ipykernel)",
   "language": "python",
   "name": "python3"
  },
  "language_info": {
   "codemirror_mode": {
    "name": "ipython",
    "version": 3
   },
   "file_extension": ".py",
   "mimetype": "text/x-python",
   "name": "python",
   "nbconvert_exporter": "python",
   "pygments_lexer": "ipython3",
   "version": "3.10.0"
  }
 },
 "nbformat": 4,
 "nbformat_minor": 5
}
