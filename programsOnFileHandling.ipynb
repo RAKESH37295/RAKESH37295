{
 "cells": [
  {
   "cell_type": "code",
   "execution_count": 1,
   "id": "53904d42",
   "metadata": {},
   "outputs": [],
   "source": [
    "#Python program to read file word by word"
   ]
  },
  {
   "cell_type": "code",
   "execution_count": 9,
   "id": "58fe6c17",
   "metadata": {},
   "outputs": [
    {
     "name": "stdout",
     "output_type": "stream",
     "text": [
      "Hello,This\n",
      "is\n",
      "RAKESH\n",
      "RANJAN\n",
      "SRIVASTAVA.\n",
      "HE\n",
      "LIKES\n",
      "TO\n",
      "PLAY\n",
      "CRICKET\n",
      "AND\n",
      "BADMINTON.\n"
     ]
    }
   ],
   "source": [
    "with open(\"C:\\\\Users\\\\Rakesh\\\\Desktop\\\\textFile.txt\",'r') as file:\n",
    "  #  print(file.read())\n",
    "    for i in file:\n",
    "        for j in i.split():\n",
    "            print(j)"
   ]
  },
  {
   "cell_type": "code",
   "execution_count": 10,
   "id": "5a50a69f",
   "metadata": {},
   "outputs": [],
   "source": [
    "#Python program to read character by character from a file"
   ]
  },
  {
   "cell_type": "code",
   "execution_count": 15,
   "id": "780b8389",
   "metadata": {},
   "outputs": [
    {
     "name": "stdout",
     "output_type": "stream",
     "text": [
      "H\n",
      "e\n",
      "l\n",
      "l\n",
      "o\n",
      ",\n",
      "T\n",
      "h\n",
      "i\n",
      "s\n",
      "i\n",
      "s\n",
      "R\n",
      "A\n",
      "K\n",
      "E\n",
      "S\n",
      "H\n",
      "R\n",
      "A\n",
      "N\n",
      "J\n",
      "A\n",
      "N\n",
      "S\n",
      "R\n",
      "I\n",
      "V\n",
      "A\n",
      "S\n",
      "T\n",
      "A\n",
      "V\n",
      "A\n",
      ".\n",
      "H\n",
      "E\n",
      "L\n",
      "I\n",
      "K\n",
      "E\n",
      "S\n",
      "T\n",
      "O\n",
      "P\n",
      "L\n",
      "A\n",
      "Y\n",
      "C\n",
      "R\n",
      "I\n",
      "C\n",
      "K\n",
      "E\n",
      "T\n",
      "A\n",
      "N\n",
      "D\n",
      "B\n",
      "A\n",
      "D\n",
      "M\n",
      "I\n",
      "N\n",
      "T\n",
      "O\n",
      "N\n",
      ".\n"
     ]
    }
   ],
   "source": [
    "with open(\"C:\\\\Users\\\\Rakesh\\\\Desktop\\\\textFile.txt\",'r') as file:\n",
    "    #print(file.read())\n",
    "    for i in file:\n",
    "        for j in i.split():\n",
    "            for k in j:\n",
    "                print(k)"
   ]
  },
  {
   "cell_type": "code",
   "execution_count": 16,
   "id": "8e1f8274",
   "metadata": {},
   "outputs": [
    {
     "name": "stdout",
     "output_type": "stream",
     "text": [
      "H\n",
      "e\n",
      "l\n",
      "l\n",
      "o\n",
      "G\n",
      "e\n",
      "e\n",
      "k\n",
      "s\n",
      "f\n",
      "o\n",
      "r\n",
      "g\n",
      "e\n",
      "e\n",
      "k\n",
      "s\n",
      "!\n"
     ]
    }
   ],
   "source": [
    "with open(\"C:\\\\Users\\\\Rakesh\\\\Desktop\\\\textFile2.txt\",'r') as file:\n",
    "    #print(file.read())\n",
    "    for i in file:\n",
    "        for j in i.split():\n",
    "            for k in j:\n",
    "                print(k)"
   ]
  },
  {
   "cell_type": "code",
   "execution_count": 17,
   "id": "19695e06",
   "metadata": {},
   "outputs": [],
   "source": [
    "#Syntax: file.read(length)\n",
    "#Parameters: An integer value specified the length of data to be read \n",
    "#from the file.\n",
    "#Return value: Returns the read bytes in form of a string. "
   ]
  },
  {
   "cell_type": "code",
   "execution_count": 19,
   "id": "ccf50ec6",
   "metadata": {},
   "outputs": [
    {
     "name": "stdout",
     "output_type": "stream",
     "text": [
      "H\n",
      "e\n",
      "l\n",
      "l\n",
      "o\n",
      " \n",
      "G\n",
      "e\n",
      "e\n",
      "k\n",
      "s\n",
      "\n",
      "\n",
      "f\n",
      "o\n",
      "r\n",
      " \n",
      "g\n",
      "e\n",
      "e\n",
      "k\n",
      "s\n",
      " \n",
      "!\n"
     ]
    }
   ],
   "source": [
    "file = open(\"C:\\\\Users\\\\Rakesh\\\\Desktop\\\\textFile2.txt\", 'r')\n",
    "while 1:\n",
    "    char = file.read(1)         \n",
    "    if not char:\n",
    "        break\n",
    "         \n",
    "    print(char)\n",
    "file.close()"
   ]
  },
  {
   "cell_type": "code",
   "execution_count": 24,
   "id": "c3e5915f",
   "metadata": {},
   "outputs": [
    {
     "name": "stdout",
     "output_type": "stream",
     "text": [
      "H\n"
     ]
    }
   ],
   "source": [
    "file = open(\"C:\\\\Users\\\\Rakesh\\\\Desktop\\\\textFile2.txt\", 'r')\n",
    "print(file.read(1))"
   ]
  },
  {
   "cell_type": "code",
   "execution_count": null,
   "id": "c19e91fa",
   "metadata": {},
   "outputs": [],
   "source": [
    "#Python program to Count the Number of occurrences of a key-value pair in a text file"
   ]
  },
  {
   "cell_type": "code",
   "execution_count": null,
   "id": "b7044b70",
   "metadata": {},
   "outputs": [],
   "source": [
    "#Given a text file of key-value pairs. The task is to count the number of occurrences of the key-value pairs in the file."
   ]
  },
  {
   "cell_type": "code",
   "execution_count": null,
   "id": "6389701d",
   "metadata": {},
   "outputs": [],
   "source": [
    "#The approach is very simple. Maintain another dictionary (say d) that will store the count of occurrence of each \n",
    "#key-value pair of the file. Store the key-value pair of the text file as a key in the dictionary.\n",
    "#Now iterate through the key-value pairs of the file. If the pair is present in the dictionary then \n",
    "#increment the value of that pair by one otherwise insert the pair and set its value to one."
   ]
  },
  {
   "cell_type": "code",
   "execution_count": 2,
   "id": "036abf1d",
   "metadata": {},
   "outputs": [
    {
     "name": "stdout",
     "output_type": "stream",
     "text": [
      "The count of coin:h is 7\n",
      "The count of coin:t is 3\n"
     ]
    }
   ],
   "source": [
    "f = open(\"C:\\\\Users\\\\Rakesh\\\\Desktop\\\\fileTest.txt\", \"r\")\n",
    "d = dict()\n",
    "for res in f:\n",
    "    res = res.strip()\n",
    "    res = res.lower()\n",
    "    lines = res.split()\n",
    "    for line in lines:\n",
    "        if line in d:\n",
    "            d[line] = d[line]+1\n",
    "        else:\n",
    "            d[line] = 1\n",
    "f.close()\n",
    "for key in list(d.keys()):\n",
    "    print(\"The count of {} is {}\".format(key,d[key]))"
   ]
  },
  {
   "cell_type": "code",
   "execution_count": 3,
   "id": "7bc91ea3",
   "metadata": {},
   "outputs": [],
   "source": [
    "#Count number of lines in a text file in Python\n"
   ]
  },
  {
   "cell_type": "code",
   "execution_count": 4,
   "id": "b4ad1ec1",
   "metadata": {},
   "outputs": [],
   "source": [
    "#Counting the number of characters is important because almost all the text boxes that rely on user input\n",
    "#have a certain limit on the number of characters that can be inserted. For example, the character limit on\n",
    "#a Facebook post is 63, 206 characters. Whereas, for a tweet on Twitter the character limit is 140 characters \n",
    "#and the character limit is 80 per post for Snapchat."
   ]
  },
  {
   "cell_type": "code",
   "execution_count": null,
   "id": "d0ab2bf4",
   "metadata": {},
   "outputs": [],
   "source": []
  },
  {
   "cell_type": "code",
   "execution_count": 6,
   "id": "9d8d19d7",
   "metadata": {},
   "outputs": [
    {
     "name": "stdout",
     "output_type": "stream",
     "text": [
      "10\n"
     ]
    }
   ],
   "source": [
    "file = open(\"C:\\\\Users\\\\Rakesh\\\\Desktop\\\\fileTest.txt\",'r')\n",
    "count = 0\n",
    "file = file.read()\n",
    "file = file.split(\"\\n\")\n",
    "for i in file:\n",
    "    if i:\n",
    "        count+=1\n",
    "print(count)        "
   ]
  },
  {
   "cell_type": "code",
   "execution_count": 1,
   "id": "dc712f26",
   "metadata": {},
   "outputs": [],
   "source": [
    "#Python program to copy odd lines of one file to other"
   ]
  },
  {
   "cell_type": "code",
   "execution_count": 10,
   "id": "13178fe0",
   "metadata": {},
   "outputs": [
    {
     "name": "stdout",
     "output_type": "stream",
     "text": [
      "<class 'list'>\n",
      "Rakesh\n",
      "Srivastava.\n"
     ]
    }
   ],
   "source": [
    "F1 = open(\"C:\\\\Users\\\\Rakesh\\\\Desktop\\\\f1.txt\",'r')\n",
    "F2 = open(\"C:\\\\Users\\\\Rakesh\\\\Desktop\\\\f2.txt\",'w')  \n",
    "content = F1.readlines()        \n",
    "print(type(content))\n",
    "for i in range(0,len(content)):\n",
    "    if i%2!=0:\n",
    "        F2.write(content[i])\n",
    "        \n",
    "F2.close()\n",
    "F2 =  open(\"C:\\\\Users\\\\Rakesh\\\\Desktop\\\\f2.txt\",'r')\n",
    "cont = F2.read()\n",
    "print(cont)\n",
    "F1.close()\n",
    "F2.close()"
   ]
  },
  {
   "cell_type": "code",
   "execution_count": 1,
   "id": "2d69aafa",
   "metadata": {},
   "outputs": [],
   "source": [
    "#Python program to reverse the content of a file and store it in another file"
   ]
  },
  {
   "cell_type": "code",
   "execution_count": 2,
   "id": "45f44691",
   "metadata": {},
   "outputs": [],
   "source": [
    "#Given a text file. The task is to reverse as well as stores the content from an \n",
    "#input file to an output file. \n",
    "#This reversing can be performed in two types.  \n",
    "\n",
    "#Full reversing: In this type of reversing all the content gets reversed. \n",
    " \n",
    "#Word to word reversing: In this kind of reversing the last word comes first and the\n",
    "#first word goes to the last position. "
   ]
  },
  {
   "cell_type": "code",
   "execution_count": null,
   "id": "81fba7a7",
   "metadata": {},
   "outputs": [],
   "source": [
    "#1: Full Reversing "
   ]
  },
  {
   "cell_type": "code",
   "execution_count": 16,
   "id": "98589d28",
   "metadata": {},
   "outputs": [
    {
     "name": "stdout",
     "output_type": "stream",
     "text": [
      ".avatsavirS\n",
      "najnaR\n",
      "hsekaR\n",
      "olleh\n"
     ]
    }
   ],
   "source": [
    "F1 = open(\"C:\\\\Users\\\\Rakesh\\\\Desktop\\\\output.txt\",'w')\n",
    "myFile = open(\"C:\\\\Users\\\\Rakesh\\\\Desktop\\\\f1.txt\",'r')\n",
    "data = myFile.read()\n",
    "newdata = data[::-1]\n",
    "#print(newdata)\n",
    "F1.write(newdata)\n",
    "#myFile.close()\n",
    "F1.close()\n",
    "F1 = open(\"C:\\\\Users\\\\Rakesh\\\\Desktop\\\\output.txt\",'r')\n",
    "print(F1.read())\n",
    "F1.close()"
   ]
  },
  {
   "cell_type": "code",
   "execution_count": 17,
   "id": "7492fa60",
   "metadata": {},
   "outputs": [],
   "source": [
    "#2: Reversing the order of lines. We will use the\n",
    "#above text file as input."
   ]
  },
  {
   "cell_type": "code",
   "execution_count": 19,
   "id": "56e52a82",
   "metadata": {},
   "outputs": [
    {
     "name": "stdout",
     "output_type": "stream",
     "text": [
      ".avatsavirS\n",
      "najnaR\n",
      "hsekaR\n",
      "olleh\n"
     ]
    }
   ],
   "source": [
    "F1 = open(\"C:\\\\Users\\\\Rakesh\\\\Desktop\\\\output2.txt\",'w')\n",
    "myFile = open(\"C:\\\\Users\\\\Rakesh\\\\Desktop\\\\f1.txt\",'r')\n",
    "data = myFile.readlines()\n",
    "newdata = data[::-1]\n",
    "#print(newdata)\n",
    "F1.writelines(newdata)\n",
    "#myFile.close()\n",
    "F1.close()\n",
    "F1 = open(\"C:\\\\Users\\\\Rakesh\\\\Desktop\\\\output.txt\",'r')\n",
    "print(F1.read())\n",
    "F1.close()"
   ]
  },
  {
   "cell_type": "code",
   "execution_count": null,
   "id": "96e2b065",
   "metadata": {},
   "outputs": [],
   "source": []
  }
 ],
 "metadata": {
  "kernelspec": {
   "display_name": "Python 3 (ipykernel)",
   "language": "python",
   "name": "python3"
  },
  "language_info": {
   "codemirror_mode": {
    "name": "ipython",
    "version": 3
   },
   "file_extension": ".py",
   "mimetype": "text/x-python",
   "name": "python",
   "nbconvert_exporter": "python",
   "pygments_lexer": "ipython3",
   "version": "3.10.0"
  }
 },
 "nbformat": 4,
 "nbformat_minor": 5
}
